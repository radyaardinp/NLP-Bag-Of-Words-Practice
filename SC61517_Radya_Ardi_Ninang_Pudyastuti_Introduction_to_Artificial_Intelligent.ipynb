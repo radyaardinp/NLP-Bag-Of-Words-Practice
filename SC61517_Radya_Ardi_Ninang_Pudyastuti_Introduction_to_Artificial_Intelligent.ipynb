{
  "nbformat": 4,
  "nbformat_minor": 0,
  "metadata": {
    "colab": {
      "provenance": []
    },
    "kernelspec": {
      "name": "python3",
      "display_name": "Python 3"
    },
    "language_info": {
      "name": "python"
    }
  },
  "cells": [
    {
      "cell_type": "markdown",
      "source": [
        "***\n",
        "**ASSIGNMENT 5**\n",
        "***"
      ],
      "metadata": {
        "id": "J-uaEtATjjqO"
      }
    },
    {
      "cell_type": "markdown",
      "source": [
        "**Import Library**\n",
        "\n",
        "Langkah pertama yang dilakukan adalah import library dan modul yang akan digunakan. Pada pemodelan NLP, kita akan membutuhkan library NLTK. selain itu kita akan mengimport/memanggil modul-modul NLTK yang akan dibutuhkan pada proses NLP seperti tokenize, stopwords, stemmer, lemmatizer, dan wordnet."
      ],
      "metadata": {
        "id": "brEvood3j9ys"
      }
    },
    {
      "cell_type": "code",
      "execution_count": null,
      "metadata": {
        "colab": {
          "base_uri": "https://localhost:8080/"
        },
        "id": "l_gkx8vA5y9_",
        "outputId": "faf4f864-0e7a-4876-9f78-7853f5a472f2"
      },
      "outputs": [
        {
          "output_type": "stream",
          "name": "stderr",
          "text": [
            "[nltk_data] Downloading collection 'popular'\n",
            "[nltk_data]    | \n",
            "[nltk_data]    | Downloading package cmudict to /root/nltk_data...\n",
            "[nltk_data]    |   Unzipping corpora/cmudict.zip.\n",
            "[nltk_data]    | Downloading package gazetteers to /root/nltk_data...\n",
            "[nltk_data]    |   Unzipping corpora/gazetteers.zip.\n",
            "[nltk_data]    | Downloading package genesis to /root/nltk_data...\n",
            "[nltk_data]    |   Unzipping corpora/genesis.zip.\n",
            "[nltk_data]    | Downloading package gutenberg to /root/nltk_data...\n",
            "[nltk_data]    |   Unzipping corpora/gutenberg.zip.\n",
            "[nltk_data]    | Downloading package inaugural to /root/nltk_data...\n",
            "[nltk_data]    |   Unzipping corpora/inaugural.zip.\n",
            "[nltk_data]    | Downloading package movie_reviews to\n",
            "[nltk_data]    |     /root/nltk_data...\n",
            "[nltk_data]    |   Unzipping corpora/movie_reviews.zip.\n",
            "[nltk_data]    | Downloading package names to /root/nltk_data...\n",
            "[nltk_data]    |   Unzipping corpora/names.zip.\n",
            "[nltk_data]    | Downloading package shakespeare to /root/nltk_data...\n",
            "[nltk_data]    |   Unzipping corpora/shakespeare.zip.\n",
            "[nltk_data]    | Downloading package stopwords to /root/nltk_data...\n",
            "[nltk_data]    |   Unzipping corpora/stopwords.zip.\n",
            "[nltk_data]    | Downloading package treebank to /root/nltk_data...\n",
            "[nltk_data]    |   Unzipping corpora/treebank.zip.\n",
            "[nltk_data]    | Downloading package twitter_samples to\n",
            "[nltk_data]    |     /root/nltk_data...\n",
            "[nltk_data]    |   Unzipping corpora/twitter_samples.zip.\n",
            "[nltk_data]    | Downloading package omw to /root/nltk_data...\n",
            "[nltk_data]    | Downloading package omw-1.4 to /root/nltk_data...\n",
            "[nltk_data]    | Downloading package wordnet to /root/nltk_data...\n",
            "[nltk_data]    | Downloading package wordnet2021 to /root/nltk_data...\n",
            "[nltk_data]    | Downloading package wordnet31 to /root/nltk_data...\n",
            "[nltk_data]    | Downloading package wordnet_ic to /root/nltk_data...\n",
            "[nltk_data]    |   Unzipping corpora/wordnet_ic.zip.\n",
            "[nltk_data]    | Downloading package words to /root/nltk_data...\n",
            "[nltk_data]    |   Unzipping corpora/words.zip.\n",
            "[nltk_data]    | Downloading package maxent_ne_chunker to\n",
            "[nltk_data]    |     /root/nltk_data...\n",
            "[nltk_data]    |   Unzipping chunkers/maxent_ne_chunker.zip.\n",
            "[nltk_data]    | Downloading package punkt to /root/nltk_data...\n",
            "[nltk_data]    |   Unzipping tokenizers/punkt.zip.\n",
            "[nltk_data]    | Downloading package snowball_data to\n",
            "[nltk_data]    |     /root/nltk_data...\n",
            "[nltk_data]    | Downloading package averaged_perceptron_tagger to\n",
            "[nltk_data]    |     /root/nltk_data...\n",
            "[nltk_data]    |   Unzipping taggers/averaged_perceptron_tagger.zip.\n",
            "[nltk_data]    | \n",
            "[nltk_data]  Done downloading collection popular\n"
          ]
        }
      ],
      "source": [
        "import nltk\n",
        "nltk.download(\"popular\")\n",
        "from nltk.tokenize import sent_tokenize, word_tokenize\n",
        "from nltk.corpus import stopwords\n",
        "from nltk.stem import PorterStemmer\n",
        "from nltk.stem import WordNetLemmatizer\n",
        "from nltk.corpus import wordnet\n",
        "from sklearn.feature_extraction.text import CountVectorizer\n",
        "lemmatizer = WordNetLemmatizer()"
      ]
    },
    {
      "cell_type": "markdown",
      "source": [
        "**Import Artikel**\n",
        "\n",
        "Langkah kedua yang dilakukan adalah mengimport artikel yang akan kita gunakan. pada penugasan kali ini, kita akan mengambil 3 artikel dari sumber yang berbeda. topik yang diambil diantaranya tentang olahraga, kesehatan, dan keuangan/finance."
      ],
      "metadata": {
        "id": "7uOFa8qV8AtI"
      }
    },
    {
      "cell_type": "code",
      "source": [
        "text_sport = \"Everton inflicted a potentially fatal blow to Liverpool's Premier League title hopes and took a huge step towards safety with a deserved 2-0 win over their Merseyside rivals at Goodison Park.Liverpool, needing a win in Jurgen Klopp's final derby as manager to move level on points with leaders Arsenal, were second-best throughout as the excellent hosts claimed their first Premier League home win over the Reds since October 2010 Jarrad Branthwaite hit the opener midway through the first half following a ferocious opening spell from Sean Dyche's side, with Dominic Calvert-Lewin capitalising on more poor Liverpool defending to head in their second from a corner after half-time. Liverpool were unable to cope with Everton's set-piece threat and, at the other end, they were beset by familiar finishing issues as Darwin Nunez, Luis Diaz and Mohamed Salah wasted chances.The defeat leaves Klopp's side three points behind Arsenal in second place with only four games to play and means Manchester City, who have two games in hand, can move two points above them with a win over Brighton, live on Sky Sports on Thursday. Everton, meanwhile, now sit eight points clear of the relegation zone in 16th place, Premier League safety within their reach as they celebrate a memorable Merseyside derby triumph.\"\n",
        "text_medical = \"Lifestyle is a way used by people, groups and nations and is formed in specific geographical, economic, political, cultural and religious text. Lifestyle is referred to the characteristics of inhabitants of a region in special time and place. It includes day to day behaviors and functions of individuals in job, activities, fun and diet. In recent decades, life style as an important factor of health is more interested by researchers. According to WHO, 60% of related factors to individual health and quality of life are correlated to lifestyle. Millions of people follow an unhealthy lifestyle. Hence, they encounter illness, disability and even death. Problems like metabolic diseases, joint and skeletal problems, cardio-vascular diseases, hypertension, overweight, violence and so on, can be caused by an unhealthy lifestyle. The relationship of lifestyle and health should be highly considered. Today, wide changes have occurred in life of all people. Malnutrition, unhealthy diet, smoking, alcohol consuming, drug abuse, stress and so on, are the presentations of unhealthy life style that they are used as dominant form of lifestyle. Besides, the lives of citizens face with new challenges. For instance, emerging new technologies within IT such as the internet and virtual communication networks, lead our world to a major challenge that threatens the physical and mental health of individuals. The challenge is the overuse and misuse of the technology. Therefore, according to the existing studies, it can be said that: lifestyle has a significant influence on physical and mental health of human being. There are different forms of such influences. Consanguinity in some ethnicity is a dominant form of life style that it leads to the genetic disorders. Reformation of this unhealthy life style is a preventing factor for decreasing the rate of genetic diseases. In some countries, the overuse of drugs is a major unhealthy life style. Iran is one of the 20 countries using the most medications. They prefer medication to other intervention. Furthermore, in 15–40% of cases they use medications about without prescription . Pain relievers, eye drops and antibiotics have the most usage in Iran. While self-medications such as antibiotics have a negative effect on the immune system, if the individual would be affected by infection, antibiotics will not be effective in treatment. Overall, 10 percent of those who are self-medicated will experience severe complications such as drug resistance. Sometimes drug allergy is so severe that it can cause death.\"\n",
        "text_finance = \"The past year has been turbulent for the global economy; as inflation, rising interest rates, tight labour markets and geopolitical shocks have hit forecasts and caused uncertainty. Throughout the year, we've released forecasts from our chief economist community, held sessions on the global economy at our events, and published our weekly news round-up of economics, financial and monetary systems. With so much news to keep track of, we've collated the most salient - and most read - pieces of the year in one place.\""
      ],
      "metadata": {
        "id": "7fORhGJj8DwU"
      },
      "execution_count": null,
      "outputs": []
    },
    {
      "cell_type": "markdown",
      "source": [
        "### **Bag Of Word**"
      ],
      "metadata": {
        "id": "LON2AYHn-nP5"
      }
    },
    {
      "cell_type": "markdown",
      "source": [
        "Pada langkah berikut kami akan mengklasifikasikan artikel yang telah kami import lalu kami klasifikasikan ke dalam bag of word.\n",
        "\n",
        "fungsi texts digunakan untuk mewakili 3 variabel artikel, fungsi bow_keys digunakan untuk mewakili list kosong untuk menyimpan kata unique, dan corpus_text digunakan untuk menyimpan teks yang sudah dibersihkan.\n",
        "\n",
        "selanjutnya kita akan melakukan proses tokenisasi untuk memecah teks menjadi token/daftar kata. setelah itu, akan dilakukan proses lemmatization dan stopwords.\n",
        "\n",
        "kata-kata yang telah melalui proses filtering akan masuk ke dalam fungsi list \"bow_keys\"\n",
        "\n",
        "untuk mengubah kembali kata ke bentuk teks, kata yang telah difiltering dan melalui proses lemmatization akan diubah kembali menjadi satu string teks yang bersih dan dismpan kembali ke dalam fungsi variabel \"text\"\n",
        "\n",
        "setelah itu string teks yag bersh akan ditambahkan ke list \"corpus_texts\" yang berisi semua teks yang telah diproses."
      ],
      "metadata": {
        "id": "EtdltkTwJUyg"
      }
    },
    {
      "cell_type": "code",
      "source": [
        "texts = [text_sport, text_medical, text_finance]\n",
        "bow_keys = []\n",
        "corpus_texts = []\n",
        "for text in texts:\n",
        "    words  = word_tokenize(text)\n",
        "    filtered_texts = [lemmatizer.lemmatize(word) for word in words if word not in set(stopwords.words('english'))]\n",
        "    bow_keys += filtered_texts\n",
        "    text = ' '.join(filtered_texts)\n",
        "    corpus_texts.append(text)\n",
        "bow_keys = set(bow_keys)\n",
        "print(\"Bag of Words Vocabulary: \",bow_keys)   #### Cleaned Data\n",
        "print(corpus_texts)   #### Cleaned Data"
      ],
      "metadata": {
        "colab": {
          "base_uri": "https://localhost:8080/"
        },
        "id": "tW6vKTLg-l9P",
        "outputId": "18f44cba-b37f-4b1a-8ed2-222658af090e"
      },
      "execution_count": null,
      "outputs": [
        {
          "output_type": "stream",
          "name": "stdout",
          "text": [
            "Bag of Words Vocabulary:  {'Darwin', 'misuse', 'geographical', 'Mohamed', 'Lifestyle', 'inflation', 'throughout', 'intervention', 'hypertension', 'individual', 'preventing', 'quality', 'time', 'decade', 'community', 'important', 'opener', 'opening', \"'s\", 'Nunez', 'relationship', 'claimed', 'stress', 'rate', 'set-piece', 'joint', 'smoking', ':', 'excellent', 'needing', 'technology', 'Thursday', 'past', 'immune', 'four', 'collated', 'sit', 'blow', 'Problems', 'formed', 'end', 'significant', 'home', 'occurred', 'level', 'inflicted', 'Branthwaite', '16th', 'global', 'job', 'game', 'without', 'weekly', 'economy', 'ferocious', 'metabolic', 'rising', 'different', 'day', 'keep', '.', 'special', 'factor', 'existing', 'effective', 'City', 'familiar', 'Malnutrition', 'IT', 'disability', 'first', 'For', 'Pain', 'Besides', 'geopolitical', 'year', 'second-best', 'much', 'play', 'huge', 'Jarrad', 'even', 'usage', 'style', 'Premier', 'Consanguinity', 'Hence', 'change', 'point', 'chief', 'half', 'Therefore', 'win', 'Park.Liverpool', 'interested', 'Overall', 'Sometimes', 'read', 'cultural', 'Furthermore', 'system', 'prefer', 'study', 'affected', 'Today', '2-0', 'within', 'With', 'political', 'Arsenal', 'Sports', 'Merseyside', 'allergy', 'severe', 'fatal', 'session', 'country', 'economic', 'safety', '60', 'They', 'characteristic', 'referred', 'emerging', ';', 'nation', 'abuse', 'overweight', 'resistance', 'presentation', 'Salah', 'eight', 'fun', 'step', 'physical', 'prescription', '10', 'communication', 'infection', 'world', 'round-up', 'people', 'inhabitant', 'turbulent', 'capitalising', 'alcohol', 'complication', 'Sky', 'self-medications', 'chances.The', 'derby', 'head', 'reliever', 'League', ',', 'disease', 'monetary', 'negative', 'network', 'triumph', 'form', 'one', 'cope', 'skeletal', 'overuse', 'group', 'finishing', 'According', 'illness', 'Luis', 'title', 'caused', 'function', 'human', 'problem', 'track', 'WHO', 'Iran', 'economist', '20', 'live', 'Throughout', '%', 'would', 'poor', 'antibiotic', 'instance', 'drop', 'towards', 'two', 'news', 'mental', 'Klopp', 'uncertainty', 'recent', 'financial', 'threatens', 'influence', 'spell', 'deserved', '2010', 'text', 'clear', 'move', 'There', 'hand', 'death', 'relegation', 'defending', 'published', 'health', 'major', 'threat', 'Millions', 'October', 'cause', 'Dyche', 'drug', 'Sean', 'leaf', 'salient', 'meanwhile', 'new', 'place', '-', 'experience', 'way', 'since', 'specific', 'violence', 'correlated', 'tight', 'treatment', 'forecast', 'encounter', 'celebrate', 'While', 'researcher', 'cardio-vascular', 'challenge', 'includes', 'event', 'hope', 'decreasing', 'according', 'The', 'activity', 'Goodison', 'considered', 'mean', 'Diaz', 'case', 'behavior', 'beset', 'unable', 'three', 'It', 'rival', 'zone', 'internet', 'midway', 'used', 'economics', 'eye', '15–40', 'Reds', 'potentially', 'In', 'Manchester', 'took', 'genetic', 'issue', 'Liverpool', 'consuming', 'Jurgen', 'effect', 'piece', 'host', 'self-medicated', 'lead', 'lifestyle', 'reach', 'face', 'Dominic', 'market', 'highly', 'labour', 'related', 'held', 'said', \"'ve\", 'shock', 'behind', 'ethnicity', 'corner', 'percent', 'citizen', 'second', 'Brighton', 'defeat', 'interest', 'wide', 'follow', 'released', 'diet', 'Reformation', 'use', 'using', 'dominant', 'half-time', 'religious', 'life', 'medication', 'like', 'following', 'Calvert-Lewin', 'hit', 'side', 'Everton', 'wasted', 'region', 'manager', 'virtual', 'final', 'unhealthy', 'leader', 'disorder', 'memorable'}\n",
            "[\"Everton inflicted potentially fatal blow Liverpool 's Premier League title hope took huge step towards safety deserved 2-0 win Merseyside rival Goodison Park.Liverpool , needing win Jurgen Klopp 's final derby manager move level point leader Arsenal , second-best throughout excellent host claimed first Premier League home win Reds since October 2010 Jarrad Branthwaite hit opener midway first half following ferocious opening spell Sean Dyche 's side , Dominic Calvert-Lewin capitalising poor Liverpool defending head second corner half-time . Liverpool unable cope Everton 's set-piece threat , end , beset familiar finishing issue Darwin Nunez , Luis Diaz Mohamed Salah wasted chances.The defeat leaf Klopp 's side three point behind Arsenal second place four game play mean Manchester City , two game hand , move two point win Brighton , live Sky Sports Thursday . Everton , meanwhile , sit eight point clear relegation zone 16th place , Premier League safety within reach celebrate memorable Merseyside derby triumph .\", 'Lifestyle way used people , group nation formed specific geographical , economic , political , cultural religious text . Lifestyle referred characteristic inhabitant region special time place . It includes day day behavior function individual job , activity , fun diet . In recent decade , life style important factor health interested researcher . According WHO , 60 % related factor individual health quality life correlated lifestyle . Millions people follow unhealthy lifestyle . Hence , encounter illness , disability even death . Problems like metabolic disease , joint skeletal problem , cardio-vascular disease , hypertension , overweight , violence , caused unhealthy lifestyle . The relationship lifestyle health highly considered . Today , wide change occurred life people . Malnutrition , unhealthy diet , smoking , alcohol consuming , drug abuse , stress , presentation unhealthy life style used dominant form lifestyle . Besides , life citizen face new challenge . For instance , emerging new technology within IT internet virtual communication network , lead world major challenge threatens physical mental health individual . The challenge overuse misuse technology . Therefore , according existing study , said : lifestyle significant influence physical mental health human . There different form influence . Consanguinity ethnicity dominant form life style lead genetic disorder . Reformation unhealthy life style preventing factor decreasing rate genetic disease . In country , overuse drug major unhealthy life style . Iran one 20 country using medication . They prefer medication intervention . Furthermore , 15–40 % case use medication without prescription . Pain reliever , eye drop antibiotic usage Iran . While self-medications antibiotic negative effect immune system , individual would affected infection , antibiotic effective treatment . Overall , 10 percent self-medicated experience severe complication drug resistance . Sometimes drug allergy severe cause death .', \"The past year turbulent global economy ; inflation , rising interest rate , tight labour market geopolitical shock hit forecast caused uncertainty . Throughout year , 've released forecast chief economist community , held session global economy event , published weekly news round-up economics , financial monetary system . With much news keep track , 've collated salient - read - piece year one place .\"]\n"
          ]
        }
      ]
    },
    {
      "cell_type": "code",
      "source": [
        "print(\"Bag of Words Vocabulary: \",bow_keys)\n",
        "with open('bow_keys.txt', 'w') as file:\n",
        "    file.write(\"Bag of Words Vocabulary:\\n\")\n",
        "    for word in bow_keys:\n",
        "        file.write(word + \"\\n\")\n",
        "\n",
        "print(\"Corpus text: \", corpus_texts)\n",
        "with open('corpus_texts.txt', 'w') as file:\n",
        "    file.write(\"Corpus Texts:\\n\")\n",
        "    for text in corpus_texts:\n",
        "        file.write(text + \"\\n\\n\")"
      ],
      "metadata": {
        "colab": {
          "base_uri": "https://localhost:8080/"
        },
        "id": "LfyfES8UUAdC",
        "outputId": "0b577d77-19b3-4dc5-c12e-4873d7e8e87d"
      },
      "execution_count": null,
      "outputs": [
        {
          "output_type": "stream",
          "name": "stdout",
          "text": [
            "Bag of Words Vocabulary:  {'Darwin', 'misuse', 'geographical', 'Mohamed', 'Lifestyle', 'inflation', 'throughout', 'intervention', 'hypertension', 'individual', 'preventing', 'quality', 'time', 'decade', 'community', 'important', 'opener', 'opening', \"'s\", 'Nunez', 'relationship', 'claimed', 'stress', 'rate', 'set-piece', 'joint', 'smoking', ':', 'excellent', 'needing', 'technology', 'Thursday', 'past', 'immune', 'four', 'collated', 'sit', 'blow', 'Problems', 'formed', 'end', 'significant', 'home', 'occurred', 'level', 'inflicted', 'Branthwaite', '16th', 'global', 'job', 'game', 'without', 'weekly', 'economy', 'ferocious', 'metabolic', 'rising', 'different', 'day', 'keep', '.', 'special', 'factor', 'existing', 'effective', 'City', 'familiar', 'Malnutrition', 'IT', 'disability', 'first', 'For', 'Pain', 'Besides', 'geopolitical', 'year', 'second-best', 'much', 'play', 'huge', 'Jarrad', 'even', 'usage', 'style', 'Premier', 'Consanguinity', 'Hence', 'change', 'point', 'chief', 'half', 'Therefore', 'win', 'Park.Liverpool', 'interested', 'Overall', 'Sometimes', 'read', 'cultural', 'Furthermore', 'system', 'prefer', 'study', 'affected', 'Today', '2-0', 'within', 'With', 'political', 'Arsenal', 'Sports', 'Merseyside', 'allergy', 'severe', 'fatal', 'session', 'country', 'economic', 'safety', '60', 'They', 'characteristic', 'referred', 'emerging', ';', 'nation', 'abuse', 'overweight', 'resistance', 'presentation', 'Salah', 'eight', 'fun', 'step', 'physical', 'prescription', '10', 'communication', 'infection', 'world', 'round-up', 'people', 'inhabitant', 'turbulent', 'capitalising', 'alcohol', 'complication', 'Sky', 'self-medications', 'chances.The', 'derby', 'head', 'reliever', 'League', ',', 'disease', 'monetary', 'negative', 'network', 'triumph', 'form', 'one', 'cope', 'skeletal', 'overuse', 'group', 'finishing', 'According', 'illness', 'Luis', 'title', 'caused', 'function', 'human', 'problem', 'track', 'WHO', 'Iran', 'economist', '20', 'live', 'Throughout', '%', 'would', 'poor', 'antibiotic', 'instance', 'drop', 'towards', 'two', 'news', 'mental', 'Klopp', 'uncertainty', 'recent', 'financial', 'threatens', 'influence', 'spell', 'deserved', '2010', 'text', 'clear', 'move', 'There', 'hand', 'death', 'relegation', 'defending', 'published', 'health', 'major', 'threat', 'Millions', 'October', 'cause', 'Dyche', 'drug', 'Sean', 'leaf', 'salient', 'meanwhile', 'new', 'place', '-', 'experience', 'way', 'since', 'specific', 'violence', 'correlated', 'tight', 'treatment', 'forecast', 'encounter', 'celebrate', 'While', 'researcher', 'cardio-vascular', 'challenge', 'includes', 'event', 'hope', 'decreasing', 'according', 'The', 'activity', 'Goodison', 'considered', 'mean', 'Diaz', 'case', 'behavior', 'beset', 'unable', 'three', 'It', 'rival', 'zone', 'internet', 'midway', 'used', 'economics', 'eye', '15–40', 'Reds', 'potentially', 'In', 'Manchester', 'took', 'genetic', 'issue', 'Liverpool', 'consuming', 'Jurgen', 'effect', 'piece', 'host', 'self-medicated', 'lead', 'lifestyle', 'reach', 'face', 'Dominic', 'market', 'highly', 'labour', 'related', 'held', 'said', \"'ve\", 'shock', 'behind', 'ethnicity', 'corner', 'percent', 'citizen', 'second', 'Brighton', 'defeat', 'interest', 'wide', 'follow', 'released', 'diet', 'Reformation', 'use', 'using', 'dominant', 'half-time', 'religious', 'life', 'medication', 'like', 'following', 'Calvert-Lewin', 'hit', 'side', 'Everton', 'wasted', 'region', 'manager', 'virtual', 'final', 'unhealthy', 'leader', 'disorder', 'memorable'}\n",
            "Corpus text:  [\"Everton inflicted potentially fatal blow Liverpool 's Premier League title hope took huge step towards safety deserved 2-0 win Merseyside rival Goodison Park.Liverpool , needing win Jurgen Klopp 's final derby manager move level point leader Arsenal , second-best throughout excellent host claimed first Premier League home win Reds since October 2010 Jarrad Branthwaite hit opener midway first half following ferocious opening spell Sean Dyche 's side , Dominic Calvert-Lewin capitalising poor Liverpool defending head second corner half-time . Liverpool unable cope Everton 's set-piece threat , end , beset familiar finishing issue Darwin Nunez , Luis Diaz Mohamed Salah wasted chances.The defeat leaf Klopp 's side three point behind Arsenal second place four game play mean Manchester City , two game hand , move two point win Brighton , live Sky Sports Thursday . Everton , meanwhile , sit eight point clear relegation zone 16th place , Premier League safety within reach celebrate memorable Merseyside derby triumph .\", 'Lifestyle way used people , group nation formed specific geographical , economic , political , cultural religious text . Lifestyle referred characteristic inhabitant region special time place . It includes day day behavior function individual job , activity , fun diet . In recent decade , life style important factor health interested researcher . According WHO , 60 % related factor individual health quality life correlated lifestyle . Millions people follow unhealthy lifestyle . Hence , encounter illness , disability even death . Problems like metabolic disease , joint skeletal problem , cardio-vascular disease , hypertension , overweight , violence , caused unhealthy lifestyle . The relationship lifestyle health highly considered . Today , wide change occurred life people . Malnutrition , unhealthy diet , smoking , alcohol consuming , drug abuse , stress , presentation unhealthy life style used dominant form lifestyle . Besides , life citizen face new challenge . For instance , emerging new technology within IT internet virtual communication network , lead world major challenge threatens physical mental health individual . The challenge overuse misuse technology . Therefore , according existing study , said : lifestyle significant influence physical mental health human . There different form influence . Consanguinity ethnicity dominant form life style lead genetic disorder . Reformation unhealthy life style preventing factor decreasing rate genetic disease . In country , overuse drug major unhealthy life style . Iran one 20 country using medication . They prefer medication intervention . Furthermore , 15–40 % case use medication without prescription . Pain reliever , eye drop antibiotic usage Iran . While self-medications antibiotic negative effect immune system , individual would affected infection , antibiotic effective treatment . Overall , 10 percent self-medicated experience severe complication drug resistance . Sometimes drug allergy severe cause death .', \"The past year turbulent global economy ; inflation , rising interest rate , tight labour market geopolitical shock hit forecast caused uncertainty . Throughout year , 've released forecast chief economist community , held session global economy event , published weekly news round-up economics , financial monetary system . With much news keep track , 've collated salient - read - piece year one place .\"]\n"
          ]
        }
      ]
    },
    {
      "cell_type": "markdown",
      "source": [
        "**Klasifikasi Teks**\n",
        "\n",
        "Disini kami akan menghitung Bag of Words dari kalimat yang diberikan, yaitu tentang Cristiano Ronaldo. langkah-langkah yang dilakukan untuk menghitung Bag of Word sama dengan pekerjaan di atas.\n"
      ],
      "metadata": {
        "id": "hzrXfxDK8MyY"
      }
    },
    {
      "cell_type": "code",
      "source": [
        "query_text = \"Cristiano Ronaldo came off the bench to earn Manchester United a hard-fought 2-1 victory at Everton in the Premier League on Sunday, taking his career goal tally to 700 in the process. Just as United did last weekend in their derby mauling at the hands of local rivals Manchester City, they again found themselves behind early on at Goodison Park after Alex Iwobi curled a sublime strike into the net from 20 metres.\"\n",
        "query_words = word_tokenize(query_text)\n",
        "query_words_clean = [lemmatizer.lemmatize(word) for word in query_words if word not in set(stopwords.words('english'))]\n",
        "query_words_corpus = [word for word in query_words_clean if word in set(bow_keys)]\n",
        "query_text_corpus = ' '.join(query_words_corpus)\n",
        "corpus_texts.append(query_text_corpus)\n",
        "\n",
        "from sklearn.feature_extraction.text import CountVectorizer\n",
        "cv = CountVectorizer() ## Creating Object for CountVectorizer\n",
        "bow_vectors = cv.fit_transform(corpus_texts).toarray()\n",
        "print(bow_vectors)\n",
        "\n",
        "print(\"Panjang Vektor: \", len(bow_vectors[0]))"
      ],
      "metadata": {
        "colab": {
          "base_uri": "https://localhost:8080/"
        },
        "id": "x2LvnW4DDERV",
        "outputId": "7161a3c9-c7e3-4468-f26b-53a8bd9745da"
      },
      "execution_count": null,
      "outputs": [
        {
          "output_type": "stream",
          "name": "stdout",
          "text": [
            "[[0 0 1 ... 0 0 1]\n",
            " [1 1 0 ... 1 0 0]\n",
            " [0 0 0 ... 0 3 0]\n",
            " [0 0 0 ... 0 0 0]\n",
            " [0 0 0 ... 0 0 0]\n",
            " [0 0 0 ... 0 0 0]]\n",
            "Panjang Vektor:  320\n"
          ]
        }
      ]
    },
    {
      "cell_type": "markdown",
      "source": [
        "Proses di bawah ini adalah megklasifikasikan teks tentang Cristiano Ronaldo ke dalam 3 topik. pengklasifikasian ini dilakukan berdasarkan kemiripan isi teks dengan teks yang lain (teks artikel) menggunakan dot product yang disimpan pada variabel similarity_vector.\n",
        "\n",
        "setelah itu, kita akan mengkalsifikasikannya kembali kata-kata dari bag of words artikel Christiano Ronaldo dengan artikel yang sudah kita klasifikasikan sebelumnya dengan mencari kesamaan bag of words yang paling mirip.\n",
        "\n",
        "sehingga di dapatkan hasil dari pengklasifikasian teks Cristiano Ronaldo adalah membawa topik tentang Sport/Olahraga."
      ],
      "metadata": {
        "id": "2nBRkoz7__6m"
      }
    },
    {
      "cell_type": "code",
      "source": [
        "#Klasifikasi teks ke topik yang benar\n",
        "# Normalize the BoW vectors\n",
        "bow_texts_norm = []\n",
        "for bow in bow_vectors:\n",
        "  length = (sum(i*i for i in bow)) ** 0.5\n",
        "  bow_norm = bow / length\n",
        "  bow_texts_norm.append(bow_norm)\n",
        "\n",
        "# Compute similarity using dot product\n",
        "similarity_vector = []\n",
        "bow_norm_query = bow_texts_norm[3]\n",
        "for bow in bow_texts_norm[:3]:\n",
        "  similarity_vector.append(sum(i*j for i,j in zip(bow,bow_norm_query)))\n",
        "print(similarity_vector)\n",
        "\n",
        "# Find the highest similarity\n",
        "id_max_sim = similarity_vector.index(max(similarity_vector))\n",
        "if (id_max_sim == 0):\n",
        "  print (\"The query text is classified as: Sport\")\n",
        "elif (id_max_sim == 1):\n",
        "  print (\"The query text is classified as: Medical\")\n",
        "elif (id_max_sim == 2):\n",
        "  print (\"The query text is classified as: Finance\")"
      ],
      "metadata": {
        "colab": {
          "base_uri": "https://localhost:8080/"
        },
        "id": "-GEQGdg2HpAc",
        "outputId": "0f636d89-eda1-4e0a-a890-ad982da6d992"
      },
      "execution_count": null,
      "outputs": [
        {
          "output_type": "stream",
          "name": "stdout",
          "text": [
            "[0.31859654643215496, 0.011587244366483038, 0.0]\n",
            "The query text is classified as: Sport\n"
          ]
        }
      ]
    }
  ]
}